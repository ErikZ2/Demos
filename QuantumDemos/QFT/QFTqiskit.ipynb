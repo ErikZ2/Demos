{
 "cells": [
  {
   "cell_type": "markdown",
   "metadata": {},
   "source": [
    "The Quantum Fourier Transform maps state $\\ket{x} \\rightarrow \\frac{1}{\\sqrt{N}} \\bigotimes_{k=1}^n (\\ket{0} + e^{\\frac{2\\pi i x}{2^k}}\\ket{1})$\n",
    "\n",
    "Prepare a $k=0$ state by applying $H$ gates to all qubits at start - succesful QFT should map this to the all $0$ state"
   ]
  },
  {
   "cell_type": "code",
   "execution_count": 19,
   "metadata": {},
   "outputs": [
    {
     "name": "stdout",
     "output_type": "stream",
     "text": [
      "     ┌───┐                             ░                       ░               »\n",
      "q_0: ┤ H ├──────■──────────────────────░───────■───────────────░───────■───────»\n",
      "     ├───┤      │                      ░       │               ░ ┌───┐ │P(π/4) »\n",
      "q_1: ┤ H ├──────┼──────■───────────────░───────┼────────■──────░─┤ H ├─■───────»\n",
      "     ├───┤      │      │               ░ ┌───┐ │P(π/2)  │P(π)  ░ └───┘         »\n",
      "q_2: ┤ H ├──────┼──────┼───────■───────░─┤ H ├─■────────■──────░───────────────»\n",
      "     ├───┤┌───┐ │P(π)  │P(2π)  │P(4π)  ░ └───┘                 ░               »\n",
      "q_3: ┤ H ├┤ H ├─■──────■───────■───────░───────────────────────░───────────────»\n",
      "     └───┘└───┘                        ░                       ░               »\n",
      "«      ░ ┌───┐ ░       \n",
      "«q_0: ─░─┤ H ├─░──X────\n",
      "«      ░ └───┘ ░  │    \n",
      "«q_1: ─░───────░──┼──X─\n",
      "«      ░       ░  │  │ \n",
      "«q_2: ─░───────░──┼──X─\n",
      "«      ░       ░  │    \n",
      "«q_3: ─░───────░──X────\n",
      "«      ░       ░       \n",
      "\n",
      "Total counts are: {'0000': 1000}\n"
     ]
    },
    {
     "data": {
      "image/png": "[encoded data removed]",
      "text/plain": [
       "<Figure size 700x500 with 1 Axes>"
      ]
     },
     "execution_count": 19,
     "metadata": {},
     "output_type": "execute_result"
    }
   ],
   "source": [
    "from numpy import pi\n",
    "\n",
    "from qiskit import QuantumCircuit, transpile\n",
    "\n",
    "# For older versions of qiskit import Aer\n",
    "\n",
    "# For newer versions of qiskit must import qiskit_aer\n",
    "\n",
    "from qiskit_aer import AerSimulator\n",
    "\n",
    "\n",
    "# If we instead wanted to make a noisy simulation we could use the following\n",
    "\n",
    "#from qiskit_ibm_runtime import QiskitRuntimeService\n",
    "\n",
    "from qiskit.visualization import plot_histogram\n",
    "\n",
    "# Number of qubits\n",
    "n = 4 \n",
    "\n",
    "# Create a Quantum Circuit\n",
    "qc = QuantumCircuit(n)\n",
    "\n",
    "# Apply H-gate to each qubit:\n",
    "for qubit in range(n):\n",
    "    qc.h(qubit)\n",
    "\n",
    "# Apply the controlled-R_k gates:\n",
    "for target_qubit in range(n):\n",
    "    qc.h(n- 1 - target_qubit)\n",
    "    for control_qubit in range(n-1-target_qubit):\n",
    "        qc.cp(pi/2**(target_qubit-control_qubit), control_qubit, n-1- target_qubit)\n",
    "    qc.barrier()\n",
    "\n",
    "# Swap the qubits (optional)\n",
    "for i in range(n//2):\n",
    "    qc.swap(i, n-1-i)\n",
    "\n",
    "\n",
    "# Display the circuit\n",
    "print(qc)\n",
    "\n",
    "qc.measure_all()\n",
    "\n",
    "# Use Aer's qasm_simulator in older versions of qiskit\n",
    "# simulator = Aer.get_backend('aer_simulator')\n",
    "\n",
    "# In newer versions of qiskit use AerSimulator \n",
    "\n",
    "simulator = AerSimulator()\n",
    "\n",
    "# Execute the circuit on the qasm simulator\n",
    "compiled_circuit = transpile(qc, simulator)\n",
    "job = simulator.run(compiled_circuit, shots=1000)\n",
    "\n",
    "# Grab results from the job\n",
    "result = job.result()\n",
    "\n",
    "# Returns counts\n",
    "counts = result.get_counts(compiled_circuit)\n",
    "print(\"\\nTotal counts are:\",counts)\n",
    "\n",
    "# Plot a histogram\n",
    "plot_histogram(counts)\n",
    "\n",
    "# If we wanted to simulate the circuit with noise we could use the following\n",
    "\n",
    "# Construct a simulator using a noise model\n",
    "# from a real backend.\n",
    "#provider = QiskitRuntimeService()\n",
    "#backend = provider.get_backend(\"ibm_kyoto\")\n",
    "#aersim_backend = AerSimulator.from_backend(backend)\n",
    "\n",
    "# Perform noisy simulation\n",
    "#result_noise = aersim_backend.run(compiled_circuit).result()\n",
    "#counts_noise = result_noise.get_counts(0)\n",
    "\n",
    "#print('Counts(noise):', counts_noise)"
   ]
  },
  {
   "cell_type": "code",
   "execution_count": null,
   "metadata": {},
   "outputs": [],
   "source": []
  }
 ],
 "metadata": {
  "kernelspec": {
   "display_name": "QM",
   "language": "python",
   "name": "python3"
  },
  "language_info": {
   "codemirror_mode": {
    "name": "ipython",
    "version": 3
   },
   "file_extension": ".py",
   "mimetype": "text/x-python",
   "name": "python",
   "nbconvert_exporter": "python",
   "pygments_lexer": "ipython3",
   "version": "3.11.8"
  }
 },
 "nbformat": 4,
 "nbformat_minor": 2
}
