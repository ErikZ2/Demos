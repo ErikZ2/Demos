{
 "cells": [
  {
   "cell_type": "markdown",
   "metadata": {},
   "source": [
    "In this notebook we implement the quantum phase estimation algorithm in qiskit. We are given a wavefunction $\\ket{\\psi}$ which is an eigenvector of a unitary $U$ with unknown eigenvalue $e^{i \\theta}$. To estimate this eigenvalue we introduce $N$ ancilla qubit which couple to $\\ket{\\psi}$ with control $U^n$ gates with $n$ a power of $2$ between $0$ and $N-1$. Phase kick back paired with an inverse quantum Fourier transform allows for an estimate of $\\theta$. "
   ]
  },
  {
   "cell_type": "code",
   "execution_count": 13,
   "metadata": {},
   "outputs": [],
   "source": [
    "from numpy import pi\n",
    "\n",
    "from qiskit import QuantumCircuit, transpile\n",
    "\n",
    "# For older versions of qiskit import Aer\n",
    "\n",
    "# For newer versions of qiskit must import qiskit_aer\n",
    "\n",
    "from qiskit_aer import AerSimulator\n",
    "\n",
    "\n",
    "# If we instead wanted to make a noisy simulation we could use the following\n",
    "\n",
    "#from qiskit_ibm_runtime import QiskitRuntimeService\n",
    "\n",
    "from qiskit.visualization import plot_histogram\n",
    "\n",
    "# Introduce QFT and QFT_dag functions for use in the quantum phase estimation algorithm\n",
    "\n",
    "def qft(qc, n):\n",
    "    for target_qubit in range(n):\n",
    "        qc.h(n- 1 - target_qubit)\n",
    "    for control_qubit in range(n-1-target_qubit):\n",
    "        qc.cp(pi/2**(target_qubit-control_qubit), control_qubit, n-1- target_qubit)\n",
    "    qc.barrier()\n",
    "\n",
    "    for i in range(n//2):\n",
    "        qc.swap(i, n-1-i)\n",
    "\n",
    "    return qc\n",
    "\n",
    "# Append to a quantum circuit the inverse QFT\n",
    "\n",
    "def qft_dag(qc, n):\n",
    "    # Create a QFT circuit of 'n' qubits\n",
    "    qft_circ = qft(QuantumCircuit(n), n)\n",
    "\n",
    "    # Take the inverse of the circuit\n",
    "    qft_inv_circ = qft_circ.inverse()\n",
    "\n",
    "    # Add the inverse QFT to the first 'n' qubits of the quantum circuit 'qc'\n",
    "    qc.append(qft_inv_circ, qc.qubits[:n])\n",
    "\n",
    "    return qc\n",
    "\n",
    "def qft_dagger(qc, n):\n",
    "\n",
    "    for qubit in range(n//2):\n",
    "        qc.swap(qubit, n-qubit-1)\n",
    "    for j in range(n):\n",
    "        for m in range(j):\n",
    "            qc.cp(-pi/float(2**(j-m)), m, j)\n",
    "        qc.h(j)\n"
   ]
  },
  {
   "cell_type": "code",
   "execution_count": 14,
   "metadata": {},
   "outputs": [],
   "source": [
    "# Implement Quantum Phase Estimation circuit with N ancilla, the last qubit will be the eigenstate of the unitary operator U\n",
    "\n",
    "def qpe(qc, N, phase):\n",
    "    # Apply Hadamard gates to the N ancilla qubits\n",
    "    for qubit in range(N):\n",
    "        qc.h(qubit)\n",
    "\n",
    "    # Apply the controlled unitary operators. Assume the unitary U is a rotation gate for simplicity.\n",
    "    for counting_qubit in range(N):\n",
    "        qc.cp(phase * (2**(counting_qubit)), counting_qubit, N)\n",
    "\n",
    "    # Apply the inverse QFT\n",
    "    qc = qft_dagger(qc, N)\n",
    "\n",
    "    return qc"
   ]
  },
  {
   "cell_type": "code",
   "execution_count": 15,
   "metadata": {},
   "outputs": [
    {
     "name": "stdout",
     "output_type": "stream",
     "text": [
      "\n",
      "Total counts are: {'001': 1000}\n"
     ]
    },
    {
     "data": {
      "image/png": "[encoded data removed]",
      "text/plain": [
       "<Figure size 700x500 with 1 Axes>"
      ]
     },
     "execution_count": 15,
     "metadata": {},
     "output_type": "execute_result"
    }
   ],
   "source": [
    "# Create a quantum circuit with N ancilla qubits and 1 qubit for the eigenstate of the unitary operator U\n",
    "\n",
    "N = 3\n",
    "\n",
    "qc = QuantumCircuit(N+1, N)\n",
    "\n",
    "# Prepare the eigenstate of the unitary operator U \n",
    "\n",
    "qc.x(N)\n",
    "\n",
    "# Apply the Quantum Phase Estimation circuit with fixed phase\n",
    "\n",
    "phase = pi/4\n",
    "\n",
    "qpe(qc,N,phase)\n",
    "\n",
    "for i in range(N):\n",
    "    qc.measure(i,i)\n",
    "\n",
    "qc.draw()\n",
    "\n",
    "simulator = AerSimulator()\n",
    "\n",
    "# Execute the circuit on the simulator\n",
    "compiled_circuit = transpile(qc, simulator)\n",
    "job = simulator.run(compiled_circuit, shots=1000)\n",
    "\n",
    "# Grab results from the job\n",
    "result = job.result()\n",
    "\n",
    "# Returns counts\n",
    "counts = result.get_counts(compiled_circuit)\n",
    "print(\"\\nTotal counts are:\",counts)\n",
    "\n",
    "# Plot a histogram\n",
    "plot_histogram(counts)\n"
   ]
  },
  {
   "cell_type": "code",
   "execution_count": null,
   "metadata": {},
   "outputs": [],
   "source": []
  }
 ],
 "metadata": {
  "kernelspec": {
   "display_name": "QM",
   "language": "python",
   "name": "python3"
  },
  "language_info": {
   "codemirror_mode": {
    "name": "ipython",
    "version": 3
   },
   "file_extension": ".py",
   "mimetype": "text/x-python",
   "name": "python",
   "nbconvert_exporter": "python",
   "pygments_lexer": "ipython3",
   "version": "3.11.5"
  }
 },
 "nbformat": 4,
 "nbformat_minor": 2
}
